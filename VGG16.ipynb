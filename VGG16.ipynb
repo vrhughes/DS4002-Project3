{
  "nbformat": 4,
  "nbformat_minor": 0,
  "metadata": {
    "colab": {
      "provenance": [],
      "authorship_tag": "ABX9TyMQIDrAEsp8R3WOgcRC5o1d",
      "include_colab_link": true
    },
    "kernelspec": {
      "name": "python3",
      "display_name": "Python 3"
    },
    "language_info": {
      "name": "python"
    }
  },
  "cells": [
    {
      "cell_type": "markdown",
      "metadata": {
        "id": "view-in-github",
        "colab_type": "text"
      },
      "source": [
        "<a href=\"https://colab.research.google.com/github/vrhughes/DS4002-Project3/blob/main/VGG16.ipynb\" target=\"_parent\"><img src=\"https://colab.research.google.com/assets/colab-badge.svg\" alt=\"Open In Colab\"/></a>"
      ]
    },
    {
      "cell_type": "code",
      "execution_count": 1,
      "metadata": {
        "id": "FE7BlNp-SzDJ"
      },
      "outputs": [],
      "source": [
        "# Basic importing\n",
        "import pandas as pd\n",
        "import numpy as np\n",
        "import matplotlib.pyplot as plt\n",
        "import seaborn as sns"
      ]
    },
    {
      "cell_type": "code",
      "source": [
        "# Importing from example code\n",
        "import os\n",
        "from glob import glob\n",
        "import tensorflow as tf\n",
        "import keras\n",
        "\n",
        "from tensorflow.keras.layers import Activation, BatchNormalization, Conv2D, Dense, Dropout, Flatten, MaxPool2D\n",
        "from tensorflow.keras.regularizers import l2\n",
        "from tensorflow.keras.optimizers import Adam, RMSprop, SGD\n",
        "from tensorflow.keras.callbacks import EarlyStopping, ReduceLROnPlateau\n",
        "from tensorflow.keras.preprocessing.image import ImageDataGenerator\n",
        "from keras.models import Sequential\n",
        "from tensorflow.keras.applications import VGG16\n",
        "\n",
        "from PIL import Image"
      ],
      "metadata": {
        "id": "8yw_b2tNTDCC"
      },
      "execution_count": 2,
      "outputs": []
    },
    {
      "cell_type": "code",
      "source": [
        "# Getting kaggle path\n",
        "import kagglehub\n",
        "\n",
        "# Download latest version\n",
        "path = kagglehub.dataset_download(\"puneet6060/intel-image-classification\")\n",
        "\n",
        "print(\"Path to dataset files:\", path)"
      ],
      "metadata": {
        "colab": {
          "base_uri": "https://localhost:8080/"
        },
        "id": "cwNdGfSQUq3X",
        "outputId": "c73bb6ba-2fdc-46d6-9ecd-47a676fdd414"
      },
      "execution_count": 3,
      "outputs": [
        {
          "output_type": "stream",
          "name": "stdout",
          "text": [
            "Path to dataset files: /kaggle/input/intel-image-classification\n"
          ]
        }
      ]
    },
    {
      "cell_type": "code",
      "source": [
        "# paths of data\n",
        "test_path = '/kaggle/input/intel-image-classification/seg_test/seg_test'\n",
        "train_path = '/kaggle/input/intel-image-classification/seg_train/seg_train'"
      ],
      "metadata": {
        "id": "-bedpyrWUi1y"
      },
      "execution_count": 4,
      "outputs": []
    },
    {
      "cell_type": "code",
      "source": [
        "# Checking what is in the folders\n",
        "for folder in  os.listdir(train_path):\n",
        "    files = glob(pathname= str(train_path + '/' + folder + '/*.jpg'))\n",
        "    print(f'Found {len(files)} in folder {folder}')\n"
      ],
      "metadata": {
        "colab": {
          "base_uri": "https://localhost:8080/"
        },
        "id": "ocoxrb5WVk3e",
        "outputId": "4e0c0e74-4a97-4926-d9f2-65bafc49534d"
      },
      "execution_count": 12,
      "outputs": [
        {
          "output_type": "stream",
          "name": "stdout",
          "text": [
            "Found 2512 in folder mountain\n",
            "Found 2382 in folder street\n",
            "Found 2191 in folder buildings\n",
            "Found 2274 in folder sea\n",
            "Found 2271 in folder forest\n",
            "Found 2404 in folder glacier\n"
          ]
        }
      ]
    },
    {
      "cell_type": "code",
      "source": [
        "train_path+'mountain'"
      ],
      "metadata": {
        "colab": {
          "base_uri": "https://localhost:8080/",
          "height": 35
        },
        "id": "cMMl02kQXalA",
        "outputId": "01d73101-eeb8-46c3-d167-6a1f2b6701ca"
      },
      "execution_count": 11,
      "outputs": [
        {
          "output_type": "execute_result",
          "data": {
            "text/plain": [
              "'/kaggle/input/intel-image-classification/seg_train/seg_trainmountain'"
            ],
            "application/vnd.google.colaboratory.intrinsic+json": {
              "type": "string"
            }
          },
          "metadata": {},
          "execution_count": 11
        }
      ]
    },
    {
      "cell_type": "code",
      "source": [
        "os.listdir(train_path)"
      ],
      "metadata": {
        "colab": {
          "base_uri": "https://localhost:8080/"
        },
        "id": "CksRpuQvXeC2",
        "outputId": "0d8871f3-6aad-4390-c8ba-13bfc4c1acf1"
      },
      "execution_count": 10,
      "outputs": [
        {
          "output_type": "execute_result",
          "data": {
            "text/plain": [
              "['mountain', 'street', 'buildings', 'sea', 'forest', 'glacier']"
            ]
          },
          "metadata": {},
          "execution_count": 10
        }
      ]
    },
    {
      "cell_type": "code",
      "source": [],
      "metadata": {
        "id": "qjSvoIigXoOh"
      },
      "execution_count": null,
      "outputs": []
    }
  ]
}